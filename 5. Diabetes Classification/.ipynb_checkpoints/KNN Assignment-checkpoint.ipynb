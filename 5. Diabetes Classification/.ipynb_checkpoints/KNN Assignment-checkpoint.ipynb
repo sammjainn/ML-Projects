{
 "cells": [
  {
   "cell_type": "code",
   "execution_count": 1,
   "metadata": {},
   "outputs": [],
   "source": [
    "import numpy as np\n",
    "import pandas as pd\n",
    "import matplotlib.pyplot as plt"
   ]
  },
  {
   "cell_type": "code",
   "execution_count": 2,
   "metadata": {},
   "outputs": [],
   "source": [
    "X = pd.read_csv('Training Data/Diabetes_XTrain.csv')\n",
    "Y = pd.read_csv('Training Data/Diabetes_YTrain.csv')"
   ]
  },
  {
   "cell_type": "code",
   "execution_count": 3,
   "metadata": {},
   "outputs": [
    {
     "name": "stdout",
     "output_type": "stream",
     "text": [
      "(576, 8) (576, 1)\n"
     ]
    }
   ],
   "source": [
    "print(X.shape,Y.shape)"
   ]
  },
  {
   "cell_type": "code",
   "execution_count": 4,
   "metadata": {},
   "outputs": [
    {
     "data": {
      "text/html": [
       "<div>\n",
       "<style scoped>\n",
       "    .dataframe tbody tr th:only-of-type {\n",
       "        vertical-align: middle;\n",
       "    }\n",
       "\n",
       "    .dataframe tbody tr th {\n",
       "        vertical-align: top;\n",
       "    }\n",
       "\n",
       "    .dataframe thead th {\n",
       "        text-align: right;\n",
       "    }\n",
       "</style>\n",
       "<table border=\"1\" class=\"dataframe\">\n",
       "  <thead>\n",
       "    <tr style=\"text-align: right;\">\n",
       "      <th></th>\n",
       "      <th>Pregnancies</th>\n",
       "      <th>Glucose</th>\n",
       "      <th>BloodPressure</th>\n",
       "      <th>SkinThickness</th>\n",
       "      <th>Insulin</th>\n",
       "      <th>BMI</th>\n",
       "      <th>DiabetesPedigreeFunction</th>\n",
       "      <th>Age</th>\n",
       "    </tr>\n",
       "  </thead>\n",
       "  <tbody>\n",
       "    <tr>\n",
       "      <th>0</th>\n",
       "      <td>7</td>\n",
       "      <td>168</td>\n",
       "      <td>88</td>\n",
       "      <td>42</td>\n",
       "      <td>321</td>\n",
       "      <td>38.2</td>\n",
       "      <td>0.787</td>\n",
       "      <td>40</td>\n",
       "    </tr>\n",
       "    <tr>\n",
       "      <th>1</th>\n",
       "      <td>8</td>\n",
       "      <td>110</td>\n",
       "      <td>76</td>\n",
       "      <td>0</td>\n",
       "      <td>0</td>\n",
       "      <td>27.8</td>\n",
       "      <td>0.237</td>\n",
       "      <td>58</td>\n",
       "    </tr>\n",
       "    <tr>\n",
       "      <th>2</th>\n",
       "      <td>7</td>\n",
       "      <td>147</td>\n",
       "      <td>76</td>\n",
       "      <td>0</td>\n",
       "      <td>0</td>\n",
       "      <td>39.4</td>\n",
       "      <td>0.257</td>\n",
       "      <td>43</td>\n",
       "    </tr>\n",
       "    <tr>\n",
       "      <th>3</th>\n",
       "      <td>2</td>\n",
       "      <td>100</td>\n",
       "      <td>66</td>\n",
       "      <td>20</td>\n",
       "      <td>90</td>\n",
       "      <td>32.9</td>\n",
       "      <td>0.867</td>\n",
       "      <td>28</td>\n",
       "    </tr>\n",
       "    <tr>\n",
       "      <th>4</th>\n",
       "      <td>4</td>\n",
       "      <td>129</td>\n",
       "      <td>86</td>\n",
       "      <td>20</td>\n",
       "      <td>270</td>\n",
       "      <td>35.1</td>\n",
       "      <td>0.231</td>\n",
       "      <td>23</td>\n",
       "    </tr>\n",
       "  </tbody>\n",
       "</table>\n",
       "</div>"
      ],
      "text/plain": [
       "   Pregnancies  Glucose  BloodPressure  SkinThickness  Insulin   BMI  \\\n",
       "0            7      168             88             42      321  38.2   \n",
       "1            8      110             76              0        0  27.8   \n",
       "2            7      147             76              0        0  39.4   \n",
       "3            2      100             66             20       90  32.9   \n",
       "4            4      129             86             20      270  35.1   \n",
       "\n",
       "   DiabetesPedigreeFunction  Age  \n",
       "0                     0.787   40  \n",
       "1                     0.237   58  \n",
       "2                     0.257   43  \n",
       "3                     0.867   28  \n",
       "4                     0.231   23  "
      ]
     },
     "execution_count": 4,
     "metadata": {},
     "output_type": "execute_result"
    }
   ],
   "source": [
    "X.head(n=5)"
   ]
  },
  {
   "cell_type": "code",
   "execution_count": 5,
   "metadata": {},
   "outputs": [
    {
     "data": {
      "text/html": [
       "<div>\n",
       "<style scoped>\n",
       "    .dataframe tbody tr th:only-of-type {\n",
       "        vertical-align: middle;\n",
       "    }\n",
       "\n",
       "    .dataframe tbody tr th {\n",
       "        vertical-align: top;\n",
       "    }\n",
       "\n",
       "    .dataframe thead th {\n",
       "        text-align: right;\n",
       "    }\n",
       "</style>\n",
       "<table border=\"1\" class=\"dataframe\">\n",
       "  <thead>\n",
       "    <tr style=\"text-align: right;\">\n",
       "      <th></th>\n",
       "      <th>Outcome</th>\n",
       "    </tr>\n",
       "  </thead>\n",
       "  <tbody>\n",
       "    <tr>\n",
       "      <th>0</th>\n",
       "      <td>1</td>\n",
       "    </tr>\n",
       "    <tr>\n",
       "      <th>1</th>\n",
       "      <td>0</td>\n",
       "    </tr>\n",
       "    <tr>\n",
       "      <th>2</th>\n",
       "      <td>1</td>\n",
       "    </tr>\n",
       "    <tr>\n",
       "      <th>3</th>\n",
       "      <td>1</td>\n",
       "    </tr>\n",
       "    <tr>\n",
       "      <th>4</th>\n",
       "      <td>0</td>\n",
       "    </tr>\n",
       "  </tbody>\n",
       "</table>\n",
       "</div>"
      ],
      "text/plain": [
       "   Outcome\n",
       "0        1\n",
       "1        0\n",
       "2        1\n",
       "3        1\n",
       "4        0"
      ]
     },
     "execution_count": 5,
     "metadata": {},
     "output_type": "execute_result"
    }
   ],
   "source": [
    "Y.head(n=5)"
   ]
  },
  {
   "cell_type": "code",
   "execution_count": 6,
   "metadata": {},
   "outputs": [],
   "source": [
    "X = X.values\n",
    "Y = Y.values"
   ]
  },
  {
   "cell_type": "code",
   "execution_count": 7,
   "metadata": {},
   "outputs": [
    {
     "name": "stdout",
     "output_type": "stream",
     "text": [
      "(576, 8) (576,)\n"
     ]
    }
   ],
   "source": [
    "Y = Y.reshape((-1,))\n",
    "print(X.shape,Y.shape)"
   ]
  },
  {
   "cell_type": "code",
   "execution_count": 8,
   "metadata": {},
   "outputs": [
    {
     "name": "stdout",
     "output_type": "stream",
     "text": [
      "(array([0, 1], dtype=int64), array([375, 201], dtype=int64))\n"
     ]
    }
   ],
   "source": [
    "no_classes = np.unique(Y,return_counts=True)\n",
    "print(no_classes)"
   ]
  },
  {
   "cell_type": "code",
   "execution_count": 9,
   "metadata": {},
   "outputs": [
    {
     "data": {
      "text/plain": [
       "<BarContainer object of 2 artists>"
      ]
     },
     "execution_count": 9,
     "metadata": {},
     "output_type": "execute_result"
    },
    {
     "data": {
      "image/png": "[encoded data removed]",
      "text/plain": [
       "<Figure size 432x288 with 1 Axes>"
      ]
     },
     "metadata": {
      "needs_background": "light"
     },
     "output_type": "display_data"
    }
   ],
   "source": [
    "plt.bar(no_classes[0],no_classes[1])"
   ]
  },
  {
   "cell_type": "code",
   "execution_count": 10,
   "metadata": {},
   "outputs": [],
   "source": [
    "def distance(x1,x2):\n",
    "    return np.sqrt(sum((x1-x2)**2))"
   ]
  },
  {
   "cell_type": "code",
   "execution_count": 11,
   "metadata": {},
   "outputs": [],
   "source": [
    "def knn(X,Y,query_point,k=7):\n",
    "    \n",
    "    vals = []\n",
    "    m = X.shape[0]\n",
    "    \n",
    "    for i in range(m):\n",
    "        d = distance(query_point,X[i])\n",
    "        vals.append((d,Y[i]))\n",
    "        \n",
    "    vals = sorted(vals)\n",
    "    vals = vals[:k]\n",
    "    \n",
    "    vals = np.array(vals)\n",
    "    \n",
    "    new_vals = np.unique(vals[:,1],return_counts=True)\n",
    "    \n",
    "    index = new_vals[1].argmax()\n",
    "    pred = new_vals[0][index]\n",
    "    \n",
    "    return pred"
   ]
  },
  {
   "cell_type": "code",
   "execution_count": 12,
   "metadata": {},
   "outputs": [
    {
     "name": "stdout",
     "output_type": "stream",
     "text": [
      "1.0\n"
     ]
    }
   ],
   "source": [
    "v = knn(X,Y,X[0])\n",
    "print(v)"
   ]
  },
  {
   "cell_type": "code",
   "execution_count": 13,
   "metadata": {},
   "outputs": [],
   "source": [
    "X_test = pd.read_csv('Testing Data/Diabetes_Xtest.csv')"
   ]
  },
  {
   "cell_type": "code",
   "execution_count": 14,
   "metadata": {},
   "outputs": [
    {
     "data": {
      "text/html": [
       "<div>\n",
       "<style scoped>\n",
       "    .dataframe tbody tr th:only-of-type {\n",
       "        vertical-align: middle;\n",
       "    }\n",
       "\n",
       "    .dataframe tbody tr th {\n",
       "        vertical-align: top;\n",
       "    }\n",
       "\n",
       "    .dataframe thead th {\n",
       "        text-align: right;\n",
       "    }\n",
       "</style>\n",
       "<table border=\"1\" class=\"dataframe\">\n",
       "  <thead>\n",
       "    <tr style=\"text-align: right;\">\n",
       "      <th></th>\n",
       "      <th>Pregnancies</th>\n",
       "      <th>Glucose</th>\n",
       "      <th>BloodPressure</th>\n",
       "      <th>SkinThickness</th>\n",
       "      <th>Insulin</th>\n",
       "      <th>BMI</th>\n",
       "      <th>DiabetesPedigreeFunction</th>\n",
       "      <th>Age</th>\n",
       "    </tr>\n",
       "  </thead>\n",
       "  <tbody>\n",
       "    <tr>\n",
       "      <th>0</th>\n",
       "      <td>0</td>\n",
       "      <td>180</td>\n",
       "      <td>90</td>\n",
       "      <td>26</td>\n",
       "      <td>90</td>\n",
       "      <td>36.5</td>\n",
       "      <td>0.314</td>\n",
       "      <td>35</td>\n",
       "    </tr>\n",
       "    <tr>\n",
       "      <th>1</th>\n",
       "      <td>2</td>\n",
       "      <td>93</td>\n",
       "      <td>64</td>\n",
       "      <td>32</td>\n",
       "      <td>160</td>\n",
       "      <td>38.0</td>\n",
       "      <td>0.674</td>\n",
       "      <td>23</td>\n",
       "    </tr>\n",
       "    <tr>\n",
       "      <th>2</th>\n",
       "      <td>2</td>\n",
       "      <td>114</td>\n",
       "      <td>68</td>\n",
       "      <td>22</td>\n",
       "      <td>0</td>\n",
       "      <td>28.7</td>\n",
       "      <td>0.092</td>\n",
       "      <td>25</td>\n",
       "    </tr>\n",
       "    <tr>\n",
       "      <th>3</th>\n",
       "      <td>13</td>\n",
       "      <td>76</td>\n",
       "      <td>60</td>\n",
       "      <td>0</td>\n",
       "      <td>0</td>\n",
       "      <td>32.8</td>\n",
       "      <td>0.180</td>\n",
       "      <td>41</td>\n",
       "    </tr>\n",
       "    <tr>\n",
       "      <th>4</th>\n",
       "      <td>1</td>\n",
       "      <td>80</td>\n",
       "      <td>74</td>\n",
       "      <td>11</td>\n",
       "      <td>60</td>\n",
       "      <td>30.0</td>\n",
       "      <td>0.527</td>\n",
       "      <td>22</td>\n",
       "    </tr>\n",
       "  </tbody>\n",
       "</table>\n",
       "</div>"
      ],
      "text/plain": [
       "   Pregnancies  Glucose  BloodPressure  SkinThickness  Insulin   BMI  \\\n",
       "0            0      180             90             26       90  36.5   \n",
       "1            2       93             64             32      160  38.0   \n",
       "2            2      114             68             22        0  28.7   \n",
       "3           13       76             60              0        0  32.8   \n",
       "4            1       80             74             11       60  30.0   \n",
       "\n",
       "   DiabetesPedigreeFunction  Age  \n",
       "0                     0.314   35  \n",
       "1                     0.674   23  \n",
       "2                     0.092   25  \n",
       "3                     0.180   41  \n",
       "4                     0.527   22  "
      ]
     },
     "execution_count": 14,
     "metadata": {},
     "output_type": "execute_result"
    }
   ],
   "source": [
    "X_test.head(n=5)"
   ]
  },
  {
   "cell_type": "code",
   "execution_count": 15,
   "metadata": {},
   "outputs": [],
   "source": [
    "col = X_test.columns"
   ]
  },
  {
   "cell_type": "code",
   "execution_count": null,
   "metadata": {},
   "outputs": [],
   "source": []
  },
  {
   "cell_type": "code",
   "execution_count": 16,
   "metadata": {},
   "outputs": [],
   "source": [
    "X_test=X_test.values"
   ]
  },
  {
   "cell_type": "code",
   "execution_count": 17,
   "metadata": {},
   "outputs": [
    {
     "data": {
      "text/plain": [
       "1.0"
      ]
     },
     "execution_count": 17,
     "metadata": {},
     "output_type": "execute_result"
    }
   ],
   "source": [
    "knn(X,Y,X_test[0])"
   ]
  },
  {
   "cell_type": "code",
   "execution_count": null,
   "metadata": {},
   "outputs": [],
   "source": []
  },
  {
   "cell_type": "code",
   "execution_count": null,
   "metadata": {},
   "outputs": [],
   "source": []
  },
  {
   "cell_type": "code",
   "execution_count": 18,
   "metadata": {},
   "outputs": [
    {
     "name": "stdout",
     "output_type": "stream",
     "text": [
      "(192, 8)\n"
     ]
    }
   ],
   "source": [
    "print(X_test.shape)"
   ]
  },
  {
   "cell_type": "code",
   "execution_count": 19,
   "metadata": {},
   "outputs": [],
   "source": [
    "s = X_test.shape[0]\n",
    "\n",
    "res = []\n",
    "res.append('Outcome')\n",
    "\n",
    "for i in range(s):\n",
    "    res.append(knn(X,Y,X_test[i]))\n",
    "    "
   ]
  },
  {
   "cell_type": "code",
   "execution_count": 20,
   "metadata": {},
   "outputs": [],
   "source": [
    "res = np.array(res)\n",
    "res=res.reshape((-1,1))"
   ]
  },
  {
   "cell_type": "code",
   "execution_count": 21,
   "metadata": {},
   "outputs": [
    {
     "data": {
      "text/plain": [
       "array([['Outcome'],\n",
       "       ['1.0'],\n",
       "       ['0.0'],\n",
       "       ['0.0'],\n",
       "       ['0.0'],\n",
       "       ['0.0'],\n",
       "       ['1.0'],\n",
       "       ['1.0'],\n",
       "       ['0.0'],\n",
       "       ['0.0'],\n",
       "       ['0.0'],\n",
       "       ['1.0'],\n",
       "       ['0.0'],\n",
       "       ['1.0'],\n",
       "       ['0.0'],\n",
       "       ['0.0'],\n",
       "       ['0.0'],\n",
       "       ['0.0'],\n",
       "       ['1.0'],\n",
       "       ['1.0'],\n",
       "       ['1.0'],\n",
       "       ['0.0'],\n",
       "       ['0.0'],\n",
       "       ['0.0'],\n",
       "       ['0.0'],\n",
       "       ['0.0'],\n",
       "       ['0.0'],\n",
       "       ['1.0'],\n",
       "       ['0.0'],\n",
       "       ['0.0'],\n",
       "       ['0.0'],\n",
       "       ['0.0'],\n",
       "       ['0.0'],\n",
       "       ['0.0'],\n",
       "       ['0.0'],\n",
       "       ['0.0'],\n",
       "       ['0.0'],\n",
       "       ['0.0'],\n",
       "       ['0.0'],\n",
       "       ['1.0'],\n",
       "       ['0.0'],\n",
       "       ['1.0'],\n",
       "       ['0.0'],\n",
       "       ['0.0'],\n",
       "       ['0.0'],\n",
       "       ['1.0'],\n",
       "       ['0.0'],\n",
       "       ['0.0'],\n",
       "       ['1.0'],\n",
       "       ['0.0'],\n",
       "       ['1.0'],\n",
       "       ['0.0'],\n",
       "       ['1.0'],\n",
       "       ['0.0'],\n",
       "       ['0.0'],\n",
       "       ['1.0'],\n",
       "       ['1.0'],\n",
       "       ['1.0'],\n",
       "       ['0.0'],\n",
       "       ['0.0'],\n",
       "       ['1.0'],\n",
       "       ['0.0'],\n",
       "       ['1.0'],\n",
       "       ['0.0'],\n",
       "       ['0.0'],\n",
       "       ['1.0'],\n",
       "       ['0.0'],\n",
       "       ['0.0'],\n",
       "       ['0.0'],\n",
       "       ['0.0'],\n",
       "       ['0.0'],\n",
       "       ['0.0'],\n",
       "       ['0.0'],\n",
       "       ['0.0'],\n",
       "       ['0.0'],\n",
       "       ['0.0'],\n",
       "       ['0.0'],\n",
       "       ['0.0'],\n",
       "       ['0.0'],\n",
       "       ['0.0'],\n",
       "       ['0.0'],\n",
       "       ['0.0'],\n",
       "       ['1.0'],\n",
       "       ['1.0'],\n",
       "       ['0.0'],\n",
       "       ['0.0'],\n",
       "       ['0.0'],\n",
       "       ['1.0'],\n",
       "       ['0.0'],\n",
       "       ['0.0'],\n",
       "       ['0.0'],\n",
       "       ['1.0'],\n",
       "       ['1.0'],\n",
       "       ['0.0'],\n",
       "       ['0.0'],\n",
       "       ['1.0'],\n",
       "       ['1.0'],\n",
       "       ['0.0'],\n",
       "       ['0.0'],\n",
       "       ['0.0'],\n",
       "       ['0.0'],\n",
       "       ['1.0'],\n",
       "       ['1.0'],\n",
       "       ['1.0'],\n",
       "       ['0.0'],\n",
       "       ['0.0'],\n",
       "       ['0.0'],\n",
       "       ['1.0'],\n",
       "       ['1.0'],\n",
       "       ['0.0'],\n",
       "       ['0.0'],\n",
       "       ['1.0'],\n",
       "       ['1.0'],\n",
       "       ['1.0'],\n",
       "       ['0.0'],\n",
       "       ['0.0'],\n",
       "       ['0.0'],\n",
       "       ['0.0'],\n",
       "       ['1.0'],\n",
       "       ['0.0'],\n",
       "       ['0.0'],\n",
       "       ['0.0'],\n",
       "       ['0.0'],\n",
       "       ['0.0'],\n",
       "       ['0.0'],\n",
       "       ['1.0'],\n",
       "       ['1.0'],\n",
       "       ['1.0'],\n",
       "       ['0.0'],\n",
       "       ['1.0'],\n",
       "       ['0.0'],\n",
       "       ['0.0'],\n",
       "       ['0.0'],\n",
       "       ['0.0'],\n",
       "       ['1.0'],\n",
       "       ['0.0'],\n",
       "       ['0.0'],\n",
       "       ['1.0'],\n",
       "       ['1.0'],\n",
       "       ['1.0'],\n",
       "       ['0.0'],\n",
       "       ['0.0'],\n",
       "       ['0.0'],\n",
       "       ['1.0'],\n",
       "       ['1.0'],\n",
       "       ['1.0'],\n",
       "       ['0.0'],\n",
       "       ['0.0'],\n",
       "       ['1.0'],\n",
       "       ['1.0'],\n",
       "       ['1.0'],\n",
       "       ['0.0'],\n",
       "       ['0.0'],\n",
       "       ['1.0'],\n",
       "       ['0.0'],\n",
       "       ['0.0'],\n",
       "       ['1.0'],\n",
       "       ['1.0'],\n",
       "       ['1.0'],\n",
       "       ['0.0'],\n",
       "       ['1.0'],\n",
       "       ['1.0'],\n",
       "       ['0.0'],\n",
       "       ['0.0'],\n",
       "       ['1.0'],\n",
       "       ['0.0'],\n",
       "       ['0.0'],\n",
       "       ['0.0'],\n",
       "       ['0.0'],\n",
       "       ['0.0'],\n",
       "       ['0.0'],\n",
       "       ['0.0'],\n",
       "       ['0.0'],\n",
       "       ['0.0'],\n",
       "       ['1.0'],\n",
       "       ['0.0'],\n",
       "       ['0.0'],\n",
       "       ['0.0'],\n",
       "       ['0.0'],\n",
       "       ['1.0'],\n",
       "       ['1.0'],\n",
       "       ['0.0'],\n",
       "       ['0.0'],\n",
       "       ['1.0'],\n",
       "       ['1.0'],\n",
       "       ['1.0'],\n",
       "       ['1.0'],\n",
       "       ['0.0'],\n",
       "       ['1.0'],\n",
       "       ['1.0'],\n",
       "       ['1.0'],\n",
       "       ['1.0'],\n",
       "       ['0.0']], dtype='<U7')"
      ]
     },
     "execution_count": 21,
     "metadata": {},
     "output_type": "execute_result"
    }
   ],
   "source": [
    "res"
   ]
  },
  {
   "cell_type": "code",
   "execution_count": 22,
   "metadata": {},
   "outputs": [],
   "source": [
    "import csv\n",
    "\n",
    "with open('test_result.csv','w',newline='') as f:\n",
    "    writer = csv.writer(f)\n",
    "    \n",
    "    for x in res:\n",
    "        writer.writerow(x)"
   ]
  }
 ],
 "metadata": {
  "kernelspec": {
   "display_name": "Python 3",
   "language": "python",
   "name": "python3"
  },
  "language_info": {
   "codemirror_mode": {
    "name": "ipython",
    "version": 3
   },
   "file_extension": ".py",
   "mimetype": "text/x-python",
   "name": "python",
   "nbconvert_exporter": "python",
   "pygments_lexer": "ipython3",
   "version": "3.7.3"
  }
 },
 "nbformat": 4,
 "nbformat_minor": 2
}
